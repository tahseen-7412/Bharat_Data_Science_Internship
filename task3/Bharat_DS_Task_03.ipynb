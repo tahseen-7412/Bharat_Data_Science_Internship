{
  "nbformat": 4,
  "nbformat_minor": 0,
  "metadata": {
    "colab": {
      "provenance": []
    },
    "kernelspec": {
      "name": "python3",
      "display_name": "Python 3"
    },
    "language_info": {
      "name": "python"
    }
  },
  "cells": [
    {
      "cell_type": "code",
      "execution_count": 1,
      "metadata": {
        "id": "4APWVZya-cbh"
      },
      "outputs": [],
      "source": [
        "import tensorflow as tf\n",
        "from tensorflow.keras.datasets import mnist\n",
        "from tensorflow.keras.models import Sequential\n",
        "from tensorflow.keras.layers import Dense, Flatten, Conv2D, MaxPooling2D\n"
      ]
    },
    {
      "cell_type": "code",
      "source": [
        "# Load the MNIST dataset\n",
        "(X_train, y_train), (X_test, y_test) = mnist.load_data()\n"
      ],
      "metadata": {
        "colab": {
          "base_uri": "https://localhost:8080/"
        },
        "id": "KEWJZgKe-gzx",
        "outputId": "76485fca-b9a2-4472-9273-05dc589ebbd1"
      },
      "execution_count": 2,
      "outputs": [
        {
          "output_type": "stream",
          "name": "stdout",
          "text": [
            "Downloading data from https://storage.googleapis.com/tensorflow/tf-keras-datasets/mnist.npz\n",
            "11490434/11490434 [==============================] - 0s 0us/step\n"
          ]
        }
      ]
    },
    {
      "cell_type": "code",
      "source": [
        "# Preprocess the data\n",
        "X_train = X_train.reshape((60000, 28, 28, 1)) / 255.0\n",
        "X_test = X_test.reshape((10000, 28, 28, 1)) / 255.0\n",
        "y_train = tf.keras.utils.to_categorical(y_train)\n",
        "y_test = tf.keras.utils.to_categorical(y_test)\n"
      ],
      "metadata": {
        "id": "F_fBwpwT-i_X"
      },
      "execution_count": 3,
      "outputs": []
    },
    {
      "cell_type": "code",
      "source": [
        "# Build the neural network model\n",
        "model = Sequential()\n",
        "model.add(Conv2D(32, (3, 3), activation='relu', input_shape=(28, 28, 1)))\n",
        "model.add(MaxPooling2D((2, 2)))\n",
        "model.add(Flatten())\n",
        "model.add(Dense(128, activation='relu'))\n",
        "model.add(Dense(10, activation='softmax'))\n"
      ],
      "metadata": {
        "id": "zq4kL-sW-mtk"
      },
      "execution_count": 4,
      "outputs": []
    },
    {
      "cell_type": "code",
      "source": [
        "# Compile the model\n",
        "model.compile(optimizer='adam', loss='categorical_crossentropy', metrics=['accuracy'])\n"
      ],
      "metadata": {
        "id": "QCkeq38f-o1I"
      },
      "execution_count": 5,
      "outputs": []
    },
    {
      "cell_type": "code",
      "source": [
        "# Train the model\n",
        "model.fit(X_train, y_train, epochs=10, batch_size=128, validation_data=(X_test, y_test))\n"
      ],
      "metadata": {
        "colab": {
          "base_uri": "https://localhost:8080/"
        },
        "id": "nTqKg-AJ-srF",
        "outputId": "f27b6c60-c0e7-4a07-d257-d3743161ca67"
      },
      "execution_count": 6,
      "outputs": [
        {
          "output_type": "stream",
          "name": "stdout",
          "text": [
            "Epoch 1/10\n",
            "469/469 [==============================] - 33s 68ms/step - loss: 0.2145 - accuracy: 0.9388 - val_loss: 0.0739 - val_accuracy: 0.9771\n",
            "Epoch 2/10\n",
            "469/469 [==============================] - 32s 69ms/step - loss: 0.0668 - accuracy: 0.9803 - val_loss: 0.0564 - val_accuracy: 0.9808\n",
            "Epoch 3/10\n",
            "469/469 [==============================] - 30s 64ms/step - loss: 0.0464 - accuracy: 0.9863 - val_loss: 0.0533 - val_accuracy: 0.9811\n",
            "Epoch 4/10\n",
            "469/469 [==============================] - 30s 64ms/step - loss: 0.0340 - accuracy: 0.9900 - val_loss: 0.0428 - val_accuracy: 0.9863\n",
            "Epoch 5/10\n",
            "469/469 [==============================] - 31s 66ms/step - loss: 0.0245 - accuracy: 0.9929 - val_loss: 0.0420 - val_accuracy: 0.9862\n",
            "Epoch 6/10\n",
            "469/469 [==============================] - 30s 64ms/step - loss: 0.0199 - accuracy: 0.9939 - val_loss: 0.0451 - val_accuracy: 0.9853\n",
            "Epoch 7/10\n",
            "469/469 [==============================] - 30s 64ms/step - loss: 0.0152 - accuracy: 0.9955 - val_loss: 0.0403 - val_accuracy: 0.9868\n",
            "Epoch 8/10\n",
            "469/469 [==============================] - 31s 66ms/step - loss: 0.0101 - accuracy: 0.9973 - val_loss: 0.0481 - val_accuracy: 0.9860\n",
            "Epoch 9/10\n",
            "469/469 [==============================] - 30s 64ms/step - loss: 0.0095 - accuracy: 0.9972 - val_loss: 0.0453 - val_accuracy: 0.9868\n",
            "Epoch 10/10\n",
            "469/469 [==============================] - 31s 67ms/step - loss: 0.0065 - accuracy: 0.9983 - val_loss: 0.0495 - val_accuracy: 0.9852\n"
          ]
        },
        {
          "output_type": "execute_result",
          "data": {
            "text/plain": [
              "<keras.callbacks.History at 0x78e44a8a6f80>"
            ]
          },
          "metadata": {},
          "execution_count": 6
        }
      ]
    },
    {
      "cell_type": "code",
      "source": [
        "# Evaluate the model\n",
        "_, accuracy = model.evaluate(X_test, y_test)\n",
        "print('Test Accuracy: %.2f%%' % (accuracy * 100))"
      ],
      "metadata": {
        "colab": {
          "base_uri": "https://localhost:8080/"
        },
        "id": "CpD04U_e-veu",
        "outputId": "41e4e95a-4690-4c3c-c8b2-287e3cd78089"
      },
      "execution_count": 7,
      "outputs": [
        {
          "output_type": "stream",
          "name": "stdout",
          "text": [
            "313/313 [==============================] - 2s 6ms/step - loss: 0.0495 - accuracy: 0.9852\n",
            "Test Accuracy: 98.52%\n"
          ]
        }
      ]
    }
  ]
}